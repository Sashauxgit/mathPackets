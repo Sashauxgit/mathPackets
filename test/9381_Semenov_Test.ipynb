{
 "cells": [
  {
   "cell_type": "markdown",
   "metadata": {},
   "source": [
    "# Конкурсная работа №1: Кластеризация алгоритмом k-средних\n",
    "\n",
    "#### Выполнил студент гр. 9381 Семенов Александр."
   ]
  },
  {
   "cell_type": "markdown",
   "metadata": {},
   "source": [
    "## Цель работы\n",
    "#### Практическое применение алгоритма кластеризации k-средних на примере звуковых сигналов mp3-формата."
   ]
  },
  {
   "cell_type": "markdown",
   "metadata": {},
   "source": [
    "## Задачи работы\n",
    "\n",
    "##### 1. С помощью ДПФ считать набор сигналов и превратить их в вектора.\n",
    "##### 2. Прогнать на получившихся векторах алгоритм k-средних\n",
    "##### 3. Записать результат: названия треков, разбитые по классам"
   ]
  },
  {
   "cell_type": "markdown",
   "metadata": {},
   "source": [
    "## Данные для работы\n",
    "\n",
    " - Выборка сигналов mp3-формата (bitrate 256).\n",
    " - Формат записи — стерео-сигнал, 44100 гц."
   ]
  },
  {
   "cell_type": "markdown",
   "metadata": {},
   "source": [
    " ## Выполнение работы\n",
    " \n",
    " ### 1) Подключение библиотек:"
   ]
  },
  {
   "cell_type": "code",
   "execution_count": 44,
   "metadata": {},
   "outputs": [],
   "source": [
    "from pydub import AudioSegment\n",
    "import scipy.fft\n",
    "import numpy as np\n",
    "import more_itertools as mit\n",
    "from statistics import mean, StatisticsError\n",
    "import random\n",
    "from csv import writer\n",
    "import copy\n",
    "\n",
    "import pyprind"
   ]
  },
  {
   "cell_type": "markdown",
   "metadata": {},
   "source": [
    " ### 2) Считывание сигнала:"
   ]
  },
  {
   "cell_type": "code",
   "execution_count": 45,
   "metadata": {},
   "outputs": [
    {
     "name": "stderr",
     "output_type": "stream",
     "text": [
      "Загрузка сигналов:\n",
      "0% [##############################] 100%\n"
     ]
    }
   ],
   "source": [
    "signals = []\n",
    "signalNames = []\n",
    "\n",
    "signalCount = 124;\n",
    "\n",
    "bar = pyprind.ProgBar(signalCount, track_time = False, title = \"Загрузка сигналов:\")\n",
    "\n",
    "for i in range(signalCount):\n",
    "    audiofile = AudioSegment.from_mp3(\"dataSet/{:02}.mp3\".format(i + 1)).set_channels(1)\n",
    "    signals.append(np.array(audiofile.get_array_of_samples()))\n",
    "    signalNames.append(\"{:02}.mp3\".format(i + 1))\n",
    "    bar.update()\n"
   ]
  },
  {
   "cell_type": "markdown",
   "metadata": {},
   "source": [
    " ### 3) Деление на окна и получение амплитудного спектра сигнала:"
   ]
  },
  {
   "cell_type": "code",
   "execution_count": 46,
   "metadata": {},
   "outputs": [
    {
     "name": "stderr",
     "output_type": "stream",
     "text": [
      "Обработка сигналов:\n",
      "0% [################              ] 100%"
     ]
    },
    {
     "ename": "MemoryError",
     "evalue": "",
     "output_type": "error",
     "traceback": [
      "\u001b[1;31m---------------------------------------------------------------------------\u001b[0m",
      "\u001b[1;31mMemoryError\u001b[0m                               Traceback (most recent call last)",
      "\u001b[1;32m<ipython-input-46-96f4b4e3e862>\u001b[0m in \u001b[0;36m<module>\u001b[1;34m\u001b[0m\n\u001b[0;32m      7\u001b[0m \u001b[1;33m\u001b[0m\u001b[0m\n\u001b[0;32m      8\u001b[0m \u001b[1;32mfor\u001b[0m \u001b[0msignal\u001b[0m \u001b[1;32min\u001b[0m \u001b[0msignals\u001b[0m\u001b[1;33m:\u001b[0m\u001b[1;33m\u001b[0m\u001b[1;33m\u001b[0m\u001b[0m\n\u001b[1;32m----> 9\u001b[1;33m     \u001b[0msignalIntervals\u001b[0m \u001b[1;33m=\u001b[0m \u001b[0mlist\u001b[0m\u001b[1;33m(\u001b[0m\u001b[0mmit\u001b[0m\u001b[1;33m.\u001b[0m\u001b[0mwindowed\u001b[0m\u001b[1;33m(\u001b[0m\u001b[0msignal\u001b[0m\u001b[1;33m,\u001b[0m \u001b[0mfillvalue\u001b[0m \u001b[1;33m=\u001b[0m \u001b[1;36m0.0\u001b[0m\u001b[1;33m,\u001b[0m \u001b[0mn\u001b[0m \u001b[1;33m=\u001b[0m \u001b[0mdimension\u001b[0m\u001b[1;33m,\u001b[0m \u001b[0mstep\u001b[0m \u001b[1;33m=\u001b[0m \u001b[0mwindowOffset\u001b[0m\u001b[1;33m)\u001b[0m\u001b[1;33m)\u001b[0m\u001b[1;33m\u001b[0m\u001b[1;33m\u001b[0m\u001b[0m\n\u001b[0m\u001b[0;32m     10\u001b[0m \u001b[1;33m\u001b[0m\u001b[0m\n\u001b[0;32m     11\u001b[0m     \u001b[0mbound\u001b[0m \u001b[1;33m=\u001b[0m \u001b[1;36m0\u001b[0m\u001b[1;33m\u001b[0m\u001b[1;33m\u001b[0m\u001b[0m\n",
      "\u001b[1;31mMemoryError\u001b[0m: "
     ]
    }
   ],
   "source": [
    "dimension = 256\n",
    "windowOffset = 256\n",
    "threshold = 0.2\n",
    "\n",
    "amplitudeSpectrals = []\n",
    "bar = pyprind.ProgBar(signalCount, track_time = False, title = \"Обработка сигналов:\")\n",
    "\n",
    "\n",
    "for signal_k in range(signalCount):\n",
    "    signalIntervals = list(mit.windowed(signals.pop(0), fillvalue = 0.0, n = dimension, step = windowOffset))\n",
    "    \n",
    "    bound = 0\n",
    "    for interval in signalIntervals:\n",
    "        m = np.max(interval)\n",
    "        if m > bound:\n",
    "            bound = m\n",
    "    bound = bound * threshold\n",
    "    signalIntervals = list(filter(lambda i: np.max(i) > bound, signalIntervals))\n",
    "    \n",
    "    signalIntervals = list(map(lambda interval: scipy.fft.fft(interval*np.hanning(len(interval))), signalIntervals))\n",
    "    amplitudeSpectral = [[np.abs(i) for i in interval[:dimension//2]] for interval in signalIntervals]\n",
    "    amplitudeSpectralMean = [0 for i in range(dimension//2)]\n",
    "    \n",
    "    for ASinterval in amplitudeSpectral:\n",
    "        for i in range(dimension//2):\n",
    "            amplitudeSpectralMean[i] += ASinterval[i]\n",
    "    \n",
    "    for i in range(dimension//2):\n",
    "        amplitudeSpectralMean[i] = amplitudeSpectralMean[i] / len(signalIntervals)\n",
    "    \n",
    "    amplitudeSpectrals.append(amplitudeSpectralMean)\n",
    "    bar.update()"
   ]
  },
  {
   "cell_type": "markdown",
   "metadata": {},
   "source": [
    " ### 4) Описание класса-класстера:"
   ]
  },
  {
   "cell_type": "code",
   "execution_count": 40,
   "metadata": {},
   "outputs": [],
   "source": [
    "class Claster:\n",
    "    def __init__(self, centreVector, vectorSpace):\n",
    "        self.centreVector = centreVector\n",
    "        self.vectorSpace = vectorSpace\n",
    "        self.vectorNames = set()\n",
    "    \n",
    "    def getCentreVec(self):\n",
    "        return self.centreVector\n",
    "\n",
    "    def getVecNames(self):\n",
    "        return self.vectorNames\n",
    "\n",
    "    def getVectors(self):\n",
    "        return [self.vectorSpace[vectorName] for vectorName in self.vectorNames]\n",
    "    \n",
    "    def appendVec(self, vectorName):\n",
    "        self.vectorNames.add(vectorName)\n",
    "    \n",
    "    def clearSetVecs(self):\n",
    "        self.vectorNames.clear()\n",
    "\n",
    "    def recalculateCentreVec(self):\n",
    "        isChange = False\n",
    "        for coord_i in range(len(self.centreVector)):\n",
    "            try:\n",
    "                newCoord = mean([self.vectorSpace[vectorName][coord_i] for vectorName in self.vectorNames])\n",
    "            except StatisticsError:\n",
    "                newCoord = self.centreVector[coord_i]\n",
    "            \n",
    "            if (self.centreVector[coord_i] != newCoord):\n",
    "                isChange = True\n",
    "            self.centreVector[coord_i] = newCoord\n",
    "        \n",
    "        return isChange"
   ]
  },
  {
   "cell_type": "markdown",
   "metadata": {},
   "source": [
    " ### 5) Подготовительные функции инициализации начальных центроидов и класстеров:"
   ]
  },
  {
   "cell_type": "code",
   "execution_count": 41,
   "metadata": {},
   "outputs": [],
   "source": [
    "# Генерация начальных центроидов\n",
    "def getCentreVectors(vectorSpace):\n",
    "    vectors = list(vectorSpace.values())\n",
    "\n",
    "    centreVecs = []\n",
    "    for i in range(5):\n",
    "        randInd = random.randrange(len(vectors)) # 5 рандомных векторов из множества становятся центроидами\n",
    "        centreVecs.append(list(vectors.pop(randInd)))\n",
    "    \n",
    "    return centreVecs\n",
    "\n",
    "# Генерация кластеров\n",
    "def getStartClasters(centreVecs, vectorSpace):\n",
    "    return [Claster(centreV, vectorSpace) for centreV in centreVecs]"
   ]
  },
  {
   "cell_type": "markdown",
   "metadata": {},
   "source": [
    " ### 6) Реализация алгоритма k-средних:"
   ]
  },
  {
   "cell_type": "code",
   "execution_count": 42,
   "metadata": {},
   "outputs": [],
   "source": [
    "# Вычисление расстояния между векторами\n",
    "def distance(V1, V2):\n",
    "    ((V2[0] - V1[0])**2 + (V2[1] - V1[1])**2)**0.5\n",
    "    return (sum([(V2[i] - V1[i])**2 for i in range(len(V1))]))**0.5\n",
    "\n",
    "# Вычисление оценки кластеризации\n",
    "def clusterCohesion(clasters):\n",
    "    return mean([sum([distance(vector, claster.getCentreVec())**2 for vector in claster.getVectors()]) for claster in clasters])\n",
    "\n",
    "# Разбиение на кластеры\n",
    "def k_average(vectorSpace):\n",
    "    clasters = getStartClasters(getCentreVectors(vectorSpace), vectorSpace)\n",
    "\n",
    "    isContinue = True\n",
    "    while(isContinue):\n",
    "        for claster in clasters:\n",
    "            claster.clearSetVecs()\n",
    "\n",
    "        for vectorName in vectorSpace:\n",
    "            distances = [distance(claster.getCentreVec(), vectorSpace[vectorName]) for claster in clasters]\n",
    "            clasters[distances.index(min(distances))].appendVec(vectorName)\n",
    "        \n",
    "        isContinue = any([claster.recalculateCentreVec() for claster in clasters])\n",
    "    \n",
    "    return tuple([claster.getVecNames() for claster in clasters]), clusterCohesion(clasters)"
   ]
  },
  {
   "cell_type": "markdown",
   "metadata": {},
   "source": [
    " ### 7) Запуск алгоритма и запись результата в файл:"
   ]
  },
  {
   "cell_type": "code",
   "execution_count": 43,
   "metadata": {},
   "outputs": [
    {
     "name": "stderr",
     "output_type": "stream",
     "text": [
      "Кластеризация треков:\n",
      "0% [##############################] 100%\n"
     ]
    }
   ],
   "source": [
    "# Функция записи результата в файл\n",
    "def writeToCSV(classes, estimate):\n",
    "    with open(\"result.csv\", \"w\", newline='') as file:\n",
    "        writerObj = writer(file, delimiter = ';')\n",
    "        for i in range(len(classes)):\n",
    "            for vecName in classes[i]:\n",
    "                writerObj.writerow([vecName, i+1])\n",
    "                \n",
    "        writerObj.writerow([\"Оценка\", estimate])\n",
    "\n",
    "\n",
    "vectorSpace = dict()\n",
    "iterCount = 200;\n",
    "bar = pyprind.ProgBar(iterCount + 1, track_time = False, title = \"Кластеризация треков:\")\n",
    "\n",
    "for i in range(signalCount):\n",
    "    vectorSpace[signalNames.pop(0)] = tuple(amplitudeSpectrals.pop(0))\n",
    "\n",
    "resClasses, resEstimate = k_average(vectorSpace)\n",
    "bar.update()\n",
    "for i in range(iterCount): # Выбираем кластеризацию с наименьшой оценкой\n",
    "    classes, estimate = k_average(vectorSpace)\n",
    "    if (estimate < resEstimate):\n",
    "        resClasses, resEstimate = classes, estimate\n",
    "    bar.update()\n",
    "\n",
    "writeToCSV(resClasses, resEstimate)"
   ]
  },
  {
   "cell_type": "markdown",
   "metadata": {},
   "source": [
    "## Вывод\n",
    "#### В ходе выполнения работы был изучен алгоритм кластеризации - k-средних; также была произведена кластеризация звуковых файлов формата mp3."
   ]
  }
 ],
 "metadata": {
  "kernelspec": {
   "display_name": "Python 3",
   "language": "python",
   "name": "python3"
  },
  "language_info": {
   "codemirror_mode": {
    "name": "ipython",
    "version": 3
   },
   "file_extension": ".py",
   "mimetype": "text/x-python",
   "name": "python",
   "nbconvert_exporter": "python",
   "pygments_lexer": "ipython3",
   "version": "3.8.5"
  }
 },
 "nbformat": 4,
 "nbformat_minor": 4
}
