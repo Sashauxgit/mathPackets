{
 "cells": [
  {
   "cell_type": "markdown",
   "id": "965466d3",
   "metadata": {},
   "source": [
    "# Индивидуальное домашнее задание № 2 постатистическому анализу.\n",
    "## Тема: \"Классические методы математической статистики\".\n",
    "#### Выполнил студент гр. 9381 Семенов Александр, вариант 15.\n",
    "## Задание:"
   ]
  },
  {
   "cell_type": "markdown",
   "id": "af926ad8",
   "metadata": {},
   "source": [
    "![title](task.png)"
   ]
  },
  {
   "cell_type": "markdown",
   "id": "521e2982",
   "metadata": {},
   "source": [
    "## Выполнение работы\n",
    "## 1 часть:\n",
    "Для начала производится создание коллекции из данных (выборки):"
   ]
  },
  {
   "cell_type": "code",
   "execution_count": 146,
   "id": "44c50fc3",
   "metadata": {},
   "outputs": [],
   "source": [
    "data <- c(5,3,10,6,12,1,10,4,1,1,9,4,1,18,11,0,1,11,0,4,3,15,2,\n",
    "6,0,12,11,0,4,15,3,1,3,2,5,3,2,17,1,0,3,0,4,8,0,1,3,3,0,9)\n",
    "alpha_1 = 0.2\n",
    "a = 0\n",
    "b = 8.29\n",
    "lambda_0 = 8\n",
    "lambda_1 = 4"
   ]
  },
  {
   "cell_type": "markdown",
   "id": "46ef40f0",
   "metadata": {},
   "source": [
    "### а) Построить вариационный ряд, эмпирическую функцию распределения и гистограмму частот.\n",
    "Исходный ряд:"
   ]
  },
  {
   "cell_type": "code",
   "execution_count": 147,
   "id": "cea5d4d2",
   "metadata": {},
   "outputs": [
    {
     "name": "stdout",
     "output_type": "stream",
     "text": [
      " [1]  5  3 10  6 12  1 10  4  1  1  9  4  1 18 11  0  1 11  0  4  3 15  2  6  0\n",
      "[26] 12 11  0  4 15  3  1  3  2  5  3  2 17  1  0  3  0  4  8  0  1  3  3  0  9\n"
     ]
    }
   ],
   "source": [
    "print(data)"
   ]
  },
  {
   "cell_type": "markdown",
   "id": "2a11bb4c",
   "metadata": {},
   "source": [
    "Вариационный ряд:"
   ]
  },
  {
   "cell_type": "code",
   "execution_count": 148,
   "id": "dd41f848",
   "metadata": {},
   "outputs": [
    {
     "name": "stdout",
     "output_type": "stream",
     "text": [
      " [1]  0  0  0  0  0  0  0  0  1  1  1  1  1  1  1  1  2  2  2  3  3  3  3  3  3\n",
      "[26]  3  3  4  4  4  4  4  5  5  6  6  8  9  9 10 10 11 11 11 12 12 15 15 17 18\n"
     ]
    }
   ],
   "source": [
    "print(sort(data))"
   ]
  },
  {
   "cell_type": "markdown",
   "id": "a25276d8",
   "metadata": {},
   "source": [
    "Вектор рангов:"
   ]
  },
  {
   "cell_type": "code",
   "execution_count": 149,
   "id": "ff7d3d04",
   "metadata": {},
   "outputs": [
    {
     "name": "stdout",
     "output_type": "stream",
     "text": [
      " [1] 33.5 23.5 40.5 35.5 45.5 12.5 40.5 30.0 12.5 12.5 38.5 30.0 12.5 50.0 43.0\n",
      "[16]  4.5 12.5 43.0  4.5 30.0 23.5 47.5 18.0 35.5  4.5 45.5 43.0  4.5 30.0 47.5\n",
      "[31] 23.5 12.5 23.5 18.0 33.5 23.5 18.0 49.0 12.5  4.5 23.5  4.5 30.0 37.0  4.5\n",
      "[46] 12.5 23.5 23.5  4.5 38.5\n"
     ]
    }
   ],
   "source": [
    "rankVector = rank(data)\n",
    "print(rankVector)"
   ]
  },
  {
   "cell_type": "markdown",
   "id": "da7d2ac4",
   "metadata": {},
   "source": [
    "Ранжированный ряд в виде таблицы:"
   ]
  },
  {
   "cell_type": "code",
   "execution_count": 150,
   "id": "53d76b68",
   "metadata": {},
   "outputs": [
    {
     "name": "stdout",
     "output_type": "stream",
     "text": [
      "   Value Rank\n",
      "1      5 33.5\n",
      "2      3 23.5\n",
      "3     10 40.5\n",
      "4      6 35.5\n",
      "5     12 45.5\n",
      "6      1 12.5\n",
      "7     10 40.5\n",
      "8      4 30.0\n",
      "9      1 12.5\n",
      "10     1 12.5\n",
      "11     9 38.5\n",
      "12     4 30.0\n",
      "13     1 12.5\n",
      "14    18 50.0\n",
      "15    11 43.0\n",
      "16     0  4.5\n",
      "17     1 12.5\n",
      "18    11 43.0\n",
      "19     0  4.5\n",
      "20     4 30.0\n",
      "21     3 23.5\n",
      "22    15 47.5\n",
      "23     2 18.0\n",
      "24     6 35.5\n",
      "25     0  4.5\n",
      "26    12 45.5\n",
      "27    11 43.0\n",
      "28     0  4.5\n",
      "29     4 30.0\n",
      "30    15 47.5\n",
      "31     3 23.5\n",
      "32     1 12.5\n",
      "33     3 23.5\n",
      "34     2 18.0\n",
      "35     5 33.5\n",
      "36     3 23.5\n",
      "37     2 18.0\n",
      "38    17 49.0\n",
      "39     1 12.5\n",
      "40     0  4.5\n",
      "41     3 23.5\n",
      "42     0  4.5\n",
      "43     4 30.0\n",
      "44     8 37.0\n",
      "45     0  4.5\n",
      "46     1 12.5\n",
      "47     3 23.5\n",
      "48     3 23.5\n",
      "49     0  4.5\n",
      "50     9 38.5\n"
     ]
    }
   ],
   "source": [
    "print(data.frame(Value = data, Rank = rankVector))"
   ]
  },
  {
   "cell_type": "markdown",
   "id": "79e5bb7d",
   "metadata": {},
   "source": [
    "Построение эмпирической функции распределения:"
   ]
  },
  {
   "cell_type": "code",
   "execution_count": 151,
   "id": "46f7fe41",
   "metadata": {},
   "outputs": [
    {
     "data": {
      "image/png": "[encoded data removed]",
      "text/plain": [
       "Plot with title \"Эмпирическая функция распределения\""
      ]
     },
     "metadata": {},
     "output_type": "display_data"
    }
   ],
   "source": [
    "dataLen = length(data)\n",
    "plot(sort(data), (1:dataLen)/dataLen, type=\"S\", col=\"red\", \n",
    "main=\"Эмпирическая функция распределения\", xlab=\"x\", ylab=\"F(x)\")"
   ]
  },
  {
   "cell_type": "markdown",
   "id": "47c852e1",
   "metadata": {},
   "source": [
    "Гистограмма частот:"
   ]
  },
  {
   "cell_type": "code",
   "execution_count": 152,
   "id": "fb5b7581",
   "metadata": {},
   "outputs": [
    {
     "data": {
      "image/png": "[encoded data removed]",
      "text/plain": [
       "Plot with title \"Гистограмма частот\""
      ]
     },
     "metadata": {},
     "output_type": "display_data"
    }
   ],
   "source": [
    "hist(data, breaks=0:20, main=\"Гистограмма частот\", freq = FALSE, col = \"green\")"
   ]
  },
  {
   "cell_type": "markdown",
   "id": "ea738b34",
   "metadata": {},
   "source": [
    "### b) Вычислить выборочные аналоги числовых характеристик (матожидание, дисперсия, медиана, ассиметрия, эксцесс, вероятности на промежутке)."
   ]
  },
  {
   "cell_type": "code",
   "execution_count": 153,
   "id": "ab5db0ed",
   "metadata": {},
   "outputs": [
    {
     "name": "stdout",
     "output_type": "stream",
     "text": [
      "  Матожидание Дисперсия Медиана Ассиметрия  Эксцесс\n",
      "1        4.96   24.5698       3   1.040773 3.043562\n"
     ]
    }
   ],
   "source": [
    "#install.packages (\"moments\")\n",
    "#library(moments)\n",
    "print(data.frame(Матожидание = mean(data), Дисперсия = var(data), \n",
    "Медиана = median(data), Ассиметрия = skewness(data), Эксцесс = kurtosis(data)))"
   ]
  },
  {
   "cell_type": "markdown",
   "id": "6d5912ad",
   "metadata": {},
   "source": [
    "$P(X \\in [a, b])=P(X \\in [0, 8.29]):$"
   ]
  },
  {
   "cell_type": "code",
   "execution_count": 154,
   "id": "35b85d97",
   "metadata": {},
   "outputs": [
    {
     "name": "stdout",
     "output_type": "stream",
     "text": [
      "[1] 0.74\n"
     ]
    }
   ],
   "source": [
    "k = 0\n",
    "for (value in data){\n",
    "    if(value >=a && value <=b) \n",
    "        k = k + 1\n",
    "}\n",
    "print(k/dataLen)"
   ]
  },
  {
   "cell_type": "markdown",
   "id": "c8c7b643",
   "metadata": {},
   "source": [
    "### c) В предположении, что исходные наблюдения являются выборкой из распределения Пуассона, построить оценку максимального правдоподобия параметра $\\lambda$ а также оценку $\\lambda$ по методу моментов. Найти смещение оценок.\n",
    "Плотность распределения Пуассона: \n",
    "### $p(x) = \\displaystyle{\\frac{e^{-\\lambda}\\lambda^x}{x!}}$, $x \\geqslant 0$\n",
    "\n",
    "Функция правдоподобия: \n",
    "### $L(x,\\lambda)=\\displaystyle{\\prod\\limits_{i=1}^{n}\\frac{e^{-\\lambda}\\lambda^x_i}{x_i!}=e^{-\\lambda n}\\lambda^{\\sum_{i=1}^{n}x_i}\\prod\\limits_{i=1}^{n}\\frac{1}{x_i!}}$\n",
    "Логарифм от функции правдоподобия:\n",
    "### $\\displaystyle{LL(x,\\lambda)=-\\lambda n + \\sum_{i=1}^{n}x_iln(\\lambda)-ln(\\prod\\limits_{i=1}^{n}x_i!)}$\n",
    "### $\\displaystyle{\\frac{\\partial LL}{\\partial\\lambda}=-n+\\frac{1}{\\lambda}\\sum_{i=1}^{n}x_i=0} \\Longrightarrow \\hat{\\lambda} = \\frac{1}{n}\\sum_{i=1}^{n}x_i=\\bar{x}=4,96$\n",
    "По методу моментов оценим $\\lambda$:\n",
    "### $\\displaystyle{E(\\hat{\\lambda})=E(\\bar{x})=\\frac{1}{n}E(\\sum_{i=1}^{n}x_i)=\\frac{1}{n}\\sum_{i=1}^{n}E(x_i)=\\frac{1}{n}n\\lambda=\\lambda}$\n",
    "Найдем смещение оценок:\n",
    "### $\\displaystyle{E(\\hat{\\lambda})=\\lambda\\Longrightarrow\\hat{\\lambda}}$ - несмещенная оценка\n",
    "Таким образом, оценка: $\\displaystyle{\\hat{\\lambda}=4,96}$"
   ]
  },
  {
   "cell_type": "markdown",
   "id": "b68747d8",
   "metadata": {},
   "source": [
    "### d) Построить асимптотический доверительный интервал уровня значимости $\\alpha_1$ для параметра $\\lambda$ на базе ОМП.\n",
    "Воспользуемся центральной предельной теоремой:\n",
    "### $\\displaystyle{\\sqrt n\\frac{\\bar x - a}{\\sigma}\\longrightarrow N(0, 1)}$\n",
    "При этом:\n",
    "### $\\displaystyle{x_1, x_2, ..., x_n \\sim Pois(\\lambda)}$\n",
    "Из чего следует, что:\n",
    "### $\\displaystyle{\\hat{\\lambda}=\\bar x},EX_i=\\lambda,DX_i=\\lambda$\n",
    "Тогда:\n",
    "### $\\displaystyle{\\sqrt n\\frac{\\bar x - \\lambda}{\\sqrt{\\hat\\lambda}}\\longrightarrow N(0, 1) \\Longrightarrow \\sqrt n\\frac{\\bar x - \\lambda}{\\sqrt{\\bar x}}\\longrightarrow N(0, 1) \\Longrightarrow P\\left(-x_\\alpha \\leqslant \\sqrt n\\frac{\\bar x - \\lambda}{\\sqrt{\\bar x}} \\leqslant x_\\alpha\\right)\\longrightarrow 1-\\alpha_1}$\n",
    "### где, $\\displaystyle{x_\\alpha: \\Phi(x_\\alpha)=1-\\frac{\\alpha_1}{2}=1-\\frac{0,2}{2}=0,9}\\Longrightarrow x_\\alpha=\\Phi^{-1}(0,9)=1,281552$"
   ]
  },
  {
   "cell_type": "code",
   "execution_count": 155,
   "id": "65590ec2",
   "metadata": {},
   "outputs": [
    {
     "name": "stdout",
     "output_type": "stream",
     "text": [
      "[1] 1.281552\n"
     ]
    }
   ],
   "source": [
    "print(qnorm (0.9)) # Вычисление Ф^(-1)"
   ]
  },
  {
   "cell_type": "markdown",
   "id": "e6ee52b0",
   "metadata": {},
   "source": [
    "Тогда:\n",
    "### $\\displaystyle{P\\left(-x_\\alpha \\leqslant \\sqrt n\\frac{\\bar x - \\lambda}{\\sqrt{\\bar x}} \\leqslant x_\\alpha\\right)\\longrightarrow 1-\\alpha_1 \\Longrightarrow P\\left(\\bar x-\\frac{x_\\alpha\\sqrt{\\bar x}}{\\sqrt n} \\leqslant \\lambda \\leqslant \\bar x+\\frac{x_\\alpha\\sqrt{\\bar x}}{\\sqrt n}\\right)\\longrightarrow 1-\\alpha_1 \\Longrightarrow P\\left(4,96-\\frac{1,281552\\sqrt{4,96}}{\\sqrt 50} \\leqslant \\lambda \\leqslant 4,96+\\frac{1,281552\\sqrt{4,96}}{\\sqrt 50}\\right)\\longrightarrow 1-0.2}$"
   ]
  },
  {
   "cell_type": "code",
   "execution_count": 156,
   "id": "a80b1b14",
   "metadata": {},
   "outputs": [
    {
     "data": {
      "text/html": [
       "4.55636197844178"
      ],
      "text/latex": [
       "4.55636197844178"
      ],
      "text/markdown": [
       "4.55636197844178"
      ],
      "text/plain": [
       "[1] 4.556362"
      ]
     },
     "metadata": {},
     "output_type": "display_data"
    }
   ],
   "source": [
    "4.96 - (1.281552*sqrt(4.96))/sqrt(50) # Расчеты"
   ]
  },
  {
   "cell_type": "code",
   "execution_count": 157,
   "id": "1e076168",
   "metadata": {},
   "outputs": [
    {
     "data": {
      "text/html": [
       "5.36363802155822"
      ],
      "text/latex": [
       "5.36363802155822"
      ],
      "text/markdown": [
       "5.36363802155822"
      ],
      "text/plain": [
       "[1] 5.363638"
      ]
     },
     "metadata": {},
     "output_type": "display_data"
    }
   ],
   "source": [
    "4.96 + (1.281552*sqrt(4.96))/sqrt(50) # Расчеты"
   ]
  },
  {
   "cell_type": "markdown",
   "id": "e94b36ef",
   "metadata": {},
   "source": [
    "Итого:\n",
    "### $\\displaystyle{P(4,56 \\leqslant \\lambda \\leqslant 5,36)\\longrightarrow 0,8}$"
   ]
  },
  {
   "cell_type": "markdown",
   "id": "6296aba0",
   "metadata": {},
   "source": [
    "### e) Используя гистограмму частот, построить критерий значимости $\\chi^2$ проверки простой гипотезы согласия я распределением Пуассона с параметром $\\lambda_0$. Проверить гипотезу на уровне значимости $\\alpha_1$. Вычислить наибольшее значение уровня значимости, на котором еще нет основания отвергнуть данную гипотезу.\n",
    "\n",
    "### $H_0: \\lambda = \\lambda_0$\n",
    "\n",
    "### $H_0: F=F_{\\lambda_0}$ - функция распределения Пуассона $Pois(\\lambda_0)$\n",
    "### $\\widetilde{H}_0: p_1 = p_{10},p_2=p_{20},...,p_r=p_{r0}$, где $p_{ri}$- неизвестные теоретические веро\\ятности попадиения в каждый интервал.\n",
    "\n",
    "|Интервал|Теоретические пападания|Попадания|\n",
    "|:|:|:|\n",
    "|(-oo, 5]|9.56|34|\n",
    "|(5, 10]|31.23|7|\n",
    "|(10, 15]|8.79|5|\n",
    "|(15, +oo)|0.41|2|"
   ]
  },
  {
   "cell_type": "markdown",
   "id": "4ef65af4",
   "metadata": {},
   "source": [
    "Вычисления попаданий в интервалы:"
   ]
  },
  {
   "cell_type": "code",
   "execution_count": 158,
   "id": "73e99cef",
   "metadata": {},
   "outputs": [
    {
     "name": "stdout",
     "output_type": "stream",
     "text": [
      "[1] 34\n",
      "[1] 7\n",
      "[1] 5\n",
      "[1] 2\n"
     ]
    }
   ],
   "source": [
    "k = 0\n",
    "for (value in data){\n",
    "    if(value <= 5) \n",
    "        k = k + 1\n",
    "}\n",
    "print(k)\n",
    "\n",
    "k = 0\n",
    "for (value in data){\n",
    "    if(value > 5 && value <=10) \n",
    "        k = k + 1\n",
    "}\n",
    "print(k)\n",
    "\n",
    "k = 0\n",
    "for (value in data){\n",
    "    if(value > 10 && value < 15) \n",
    "        k = k + 1\n",
    "}\n",
    "print(k)\n",
    "\n",
    "k = 0\n",
    "for (value in data){\n",
    "    if(value > 15) \n",
    "        k = k + 1\n",
    "}\n",
    "print(k)"
   ]
  },
  {
   "cell_type": "markdown",
   "id": "4ba092b8",
   "metadata": {},
   "source": [
    "Вычисления теоретических ожидаемых попаданий"
   ]
  },
  {
   "cell_type": "code",
   "execution_count": 159,
   "id": "5023139d",
   "metadata": {},
   "outputs": [
    {
     "data": {
      "text/html": [
       "9.56180310398126"
      ],
      "text/latex": [
       "9.56180310398126"
      ],
      "text/markdown": [
       "9.56180310398126"
      ],
      "text/plain": [
       "[1] 9.561803"
      ]
     },
     "metadata": {},
     "output_type": "display_data"
    },
    {
     "data": {
      "text/html": [
       "31.2324865239461"
      ],
      "text/latex": [
       "31.2324865239461"
      ],
      "text/markdown": [
       "31.2324865239461"
      ],
      "text/plain": [
       "[1] 31.23249"
      ]
     },
     "metadata": {},
     "output_type": "display_data"
    },
    {
     "data": {
      "text/html": [
       "8.79415982273044"
      ],
      "text/latex": [
       "8.79415982273044"
      ],
      "text/markdown": [
       "8.79415982273044"
      ],
      "text/plain": [
       "[1] 8.79416"
      ]
     },
     "metadata": {},
     "output_type": "display_data"
    },
    {
     "data": {
      "text/html": [
       "0.411550549342243"
      ],
      "text/latex": [
       "0.411550549342243"
      ],
      "text/markdown": [
       "0.411550549342243"
      ],
      "text/plain": [
       "[1] 0.4115505"
      ]
     },
     "metadata": {},
     "output_type": "display_data"
    }
   ],
   "source": [
    "ppois(5, lambda_0)*50\n",
    "(ppois(10, lambda_0) - ppois(5, lambda_0))*50\n",
    "(ppois(15, lambda_0) - ppois(10, lambda_0))*50\n",
    "(1 - ppois(15, lambda_0))*50"
   ]
  },
  {
   "cell_type": "markdown",
   "id": "6deb1184",
   "metadata": {},
   "source": [
    "### $\\displaystyle{\\chi^2 = \\sum_{i=1}^{r}\\frac{(n_i-N_{p_{i0}})}{N_{p_{i0}}}} = \\frac{(34-9,56)^2}{9,56} + \\frac{(7-31,23)^2}{31,23} + \\frac{(5-8,79)^2}{8,79} + \\frac{(2-0,41)^2}{0,41} = 89.079744885087$"
   ]
  },
  {
   "cell_type": "code",
   "execution_count": 160,
   "id": "5ec5ff11",
   "metadata": {},
   "outputs": [
    {
     "data": {
      "text/html": [
       "89.079744885087"
      ],
      "text/latex": [
       "89.079744885087"
      ],
      "text/markdown": [
       "89.079744885087"
      ],
      "text/plain": [
       "[1] 89.07974"
      ]
     },
     "metadata": {},
     "output_type": "display_data"
    }
   ],
   "source": [
    "(34-9.56)^2/9.56 + (7-31.23)^2/31.23 + (5-8.79)^2/8.79 + (2-0.41)^2/0.41"
   ]
  },
  {
   "cell_type": "markdown",
   "id": "bb69efac",
   "metadata": {},
   "source": [
    "Граница критической области:\n",
    "### $x_{\\alpha} = 4.64162767608745 << \\chi_2 \\Rightarrow$ - основная гипотеза солгасия с распределением Пуассона отвергнута. Принимается альтернативная гипотеза о том, что исходные наблюдения не являются выборкой из распределения Пуассона с параметром $\\lambda_0$"
   ]
  },
  {
   "cell_type": "code",
   "execution_count": 161,
   "id": "b020ddae",
   "metadata": {},
   "outputs": [
    {
     "data": {
      "text/html": [
       "4.64162767608745"
      ],
      "text/latex": [
       "4.64162767608745"
      ],
      "text/markdown": [
       "4.64162767608745"
      ],
      "text/plain": [
       "[1] 4.641628"
      ]
     },
     "metadata": {},
     "output_type": "display_data"
    }
   ],
   "source": [
    "qchisq(1-alpha_1, 3)"
   ]
  },
  {
   "cell_type": "markdown",
   "id": "89d7d33b",
   "metadata": {},
   "source": [
    "### f) Построить критерий значимости $\\chi^2$ проверки сложной гипотезы согласия с распределением Пуассона. Проверить гипотезу на уровне значимости $\\alpha_1$. Вычислить наибольшее значение уровня значимости, на котором еще нет основания отвергнуть данную гипотезу."
   ]
  },
  {
   "cell_type": "code",
   "execution_count": 162,
   "id": "2ca8de90",
   "metadata": {},
   "outputs": [
    {
     "name": "stderr",
     "output_type": "stream",
     "text": [
      "Warning message in nlm(csq, mean(data)):\n",
      "\"NA/Inf заменены максимальным положительным значением\""
     ]
    },
    {
     "data": {
      "text/html": [
       "69.347617009345"
      ],
      "text/latex": [
       "69.347617009345"
      ],
      "text/markdown": [
       "69.347617009345"
      ],
      "text/plain": [
       "[1] 69.34762"
      ]
     },
     "metadata": {},
     "output_type": "display_data"
    }
   ],
   "source": [
    "lower = c(-Inf, 5, 10, 15)\n",
    "up = c(5, 10, 15, +Inf)\n",
    "hits = c(34, 7, 5, 2)\n",
    "\n",
    "csq <- function(lambda_0){\n",
    "    prob <- ppois(up, lambda_0) - ppois(lower, lambda_0)\n",
    "    return (sum((hits-50*prob)^2/prob/50))\n",
    "}\n",
    "nlm(csq, mean(data))$minimum"
   ]
  },
  {
   "cell_type": "markdown",
   "id": "be0eb49f",
   "metadata": {},
   "source": [
    "### $\\widetilde{X}^2=69,347617009345$\n",
    "### $df=r-d-1=4-1-1=2$\n",
    "### $x_{\\alpha} = 3.2188758248682 << \\widetilde{X}^2 \\Rightarrow$ - гипотеза о согласии с распределением Пуассона отвергнута.\n",
    "\n",
    "Вычисление $x_{\\alpha}$:"
   ]
  },
  {
   "cell_type": "code",
   "execution_count": 163,
   "id": "27ebe251",
   "metadata": {},
   "outputs": [
    {
     "data": {
      "text/html": [
       "3.2188758248682"
      ],
      "text/latex": [
       "3.2188758248682"
      ],
      "text/markdown": [
       "3.2188758248682"
      ],
      "text/plain": [
       "[1] 3.218876"
      ]
     },
     "metadata": {},
     "output_type": "display_data"
    }
   ],
   "source": [
    "qchisq(1-alpha_1, 2)"
   ]
  },
  {
   "cell_type": "markdown",
   "id": "bd372edd",
   "metadata": {},
   "source": [
    "Вычисление наибольшего значения урованя значимости $\\alpha_{max}$:"
   ]
  },
  {
   "cell_type": "code",
   "execution_count": 164,
   "id": "a57d39e4",
   "metadata": {},
   "outputs": [
    {
     "name": "stderr",
     "output_type": "stream",
     "text": [
      "Warning message in nlm(csq, mean(data)):\n",
      "\"NA/Inf заменены максимальным положительным значением\""
     ]
    },
    {
     "data": {
      "text/html": [
       "8.88178419700125e-16"
      ],
      "text/latex": [
       "8.88178419700125e-16"
      ],
      "text/markdown": [
       "8.88178419700125e-16"
      ],
      "text/plain": [
       "[1] 8.881784e-16"
      ]
     },
     "metadata": {},
     "output_type": "display_data"
    }
   ],
   "source": [
    "1 - pchisq(nlm(csq, mean(data))$minimum, df=2)"
   ]
  },
  {
   "cell_type": "markdown",
   "id": "c3ff94e3",
   "metadata": {},
   "source": [
    "### g) Построить наиболее мощный критерий проверки простой гипотезы пуассоновости с параметром $\\lambda=\\lambda_0$ при альтернативной пуассоновости с параметром $\\lambda=\\lambda_1$. Проверить гипотезу на уровне значимости $\\alpha_1$. Что получится, если поменять местами основную и альтернативную гипотезы?\n",
    "\n",
    "### $H_0:\\lambda=\\lambda_0$\n",
    "### $H_A:\\lambda=\\lambda_1$\n",
    "Для простой гипотезы:\n",
    "### $L(\\overrightarrow{x}; \\lambda_0)=\\displaystyle{\\prod\\limits_{i=1}^{n}\\frac{e^{-\\lambda_0}\\lambda_0^{x_i}}{x_i!}=e^{-\\lambda_0 n}\\lambda_0^{\\sum_{i=1}^{n}x_i}\\prod\\limits_{i=1}^{n}\\frac{1}{x_i!}}$\n",
    "Для альтернативной гипотезы:\n",
    "### $L(\\overrightarrow{x}; \\lambda_1)=\\displaystyle{\\prod\\limits_{i=1}^{n}\\frac{e^{-\\lambda_1}\\lambda_1^{x_i}}{x_i!}=e^{-\\lambda_1 n}\\lambda_1^{\\sum_{i=1}^{n}x_i}\\prod\\limits_{i=1}^{n}\\frac{1}{x_i!}}$\n",
    "### $L(\\overrightarrow{x}; \\lambda_0, \\lambda_1)=\\displaystyle{\\frac{L(\\overrightarrow{x}; \\lambda_1)}{L(\\overrightarrow{x}; \\lambda_0)}=\\left(\\frac{\\lambda_1}{\\lambda_0}\\right)^{\\sum_{i=1}^{n}x_i}e^{-n(\\lambda_1-\\lambda_0)}}$\n",
    "\n",
    "По Лемме Неймона-Пирсона:\n",
    "$\\exists НМК: \\phi(x)= \\begin{cases}\n",
    "    0, & \\quad L(\\overrightarrow{x}; \\lambda_0, \\lambda_1) \\leqslant c_\\alpha \\\\\n",
    "    1, & \\quad L(\\overrightarrow{x}; \\lambda_0, \\lambda_1) > c_\\alpha\n",
    "\\end{cases}$\n",
    "### $P(L(\\overrightarrow{x}; \\lambda_0, \\lambda_1) > c_\\alpha | \\lambda=\\lambda_0) = \\alpha$\n",
    "### $\\displaystyle{\\left(\\frac{\\lambda_1}{\\lambda_0}\\right)^{\\sum_{i=1}^{n}x_i}e^{-n(\\lambda_1-\\lambda_0)} > c_\\alpha}$\n",
    "### $\\displaystyle{\\sum_{i=1}^{n}x_i log\\left(\\frac{\\lambda_1}{\\lambda_0}\\right)-n(\\lambda_1-\\lambda_0) > log(c_\\alpha)}$\n",
    "### $\\displaystyle{\\bar{x} log\\left(\\frac{\\lambda_1}{\\lambda_0}\\right)-(\\lambda_1-\\lambda_0) > \\frac{log(c_\\alpha)}{n}}$\n",
    "### $\\displaystyle{\\bar{x} > \\frac{\\frac{log(c_\\alpha)}{n}+(\\lambda_1-\\lambda_0)}{log\\left(\\frac{\\lambda_1}{\\lambda_0}\\right)}=d}$\n",
    "### $\\displaystyle{P(\\overrightarrow{x}> d | \\lambda=\\lambda_0) = P\\left(\\frac{\\overrightarrow{x} - \\lambda_0}{\\sigma} > \\frac{d - \\lambda_0}{\\sigma} | \\lambda=\\lambda_0\\right)=P\\left(\\sqrt{n}\\frac{\\overrightarrow{x} - \\lambda_0}{\\sqrt{\\lambda_0}} > \\sqrt{n}\\frac{d - \\lambda_0}{\\sqrt{\\lambda_0}} | \\lambda=\\lambda_0\\right)=\\alpha}$\n",
    "### $\\displaystyle{P\\left(\\sqrt{n}\\frac{\\overrightarrow{x} - \\lambda_0}{\\sqrt{\\lambda_0}} \\leqslant \\sqrt{n}\\frac{d - \\lambda_0}{\\sqrt{\\lambda_0}} | \\lambda=\\lambda_0\\right)=1-\\alpha}$\n",
    "### $\\displaystyle{\\Phi\\left(\\sqrt{n}\\frac{d - \\lambda_0}{\\sqrt{\\lambda_0}}\\right) = 1-\\alpha}$\n",
    "### $\\displaystyle{\\sqrt{n}\\frac{d - \\lambda_0}{\\sqrt{\\lambda_0}} = x_{1-\\alpha}}$\n",
    "### $\\displaystyle{d = \\sqrt{\\frac{\\lambda_0}{n}}x_{1-\\alpha} + \\lambda_0}$\n",
    "$\\phi(x)= \\begin{cases}\n",
    "    0, & \\quad \\overrightarrow{x}\\leqslant d \\\\\n",
    "    1, & \\quad \\overrightarrow{x}>d\n",
    "\\end{cases}$"
   ]
  },
  {
   "cell_type": "code",
   "execution_count": 165,
   "id": "43da2473",
   "metadata": {},
   "outputs": [
    {
     "data": {
      "text/html": [
       "8.33664849342917"
      ],
      "text/latex": [
       "8.33664849342917"
      ],
      "text/markdown": [
       "8.33664849342917"
      ],
      "text/plain": [
       "[1] 8.336648"
      ]
     },
     "metadata": {},
     "output_type": "display_data"
    }
   ],
   "source": [
    "d = qnorm (1 - alpha_1)*sqrt(lambda_0/50) + lambda_0\n",
    "d"
   ]
  },
  {
   "cell_type": "markdown",
   "id": "4b44eb8b",
   "metadata": {},
   "source": [
    "**Ответ:**\n",
    "$\\phi(x)= \\begin{cases}\n",
    "    0, & \\quad \\overrightarrow{x}\\leqslant 8.33664849342917 \\\\\n",
    "    1, & \\quad \\overrightarrow{x}>8.33664849342917\n",
    "\\end{cases}$"
   ]
  },
  {
   "cell_type": "markdown",
   "id": "989a2e64",
   "metadata": {},
   "source": [
    "### h) В пунктах c-f поменять семейство распределений Пуассона на семейство геометрических распределений.\n",
    "\n",
    "### с)\n",
    "### $\\displaystyle{L(\\overrightarrow{x}, \\lambda)=\\prod\\limits_{i=1}^{n}p_\\lambda(X_i)=\\frac{\\lambda^{\\sum_{i=1}^{n}X_i}}{(\\lambda+1)^{\\sum_{i=1}^{n}X_i + n}}}$\n",
    "### $\\displaystyle{LL(\\overrightarrow{x}, \\lambda)=ln(L(\\overrightarrow{x}, \\lambda))=ln(\\lambda)\\sum_{i=1}^{n}X_i-\\left(\\sum_{i=1}^{n}X_i + n\\right)ln(\\lambda+1)}$\n",
    "### $\\displaystyle{\\frac{dLL(\\overrightarrow{x}, \\lambda)}{d\\lambda}=\\frac{1}{\\lambda}\\sum_{i=1}^{n}X_i-\\left(\\sum_{i=1}^{n}X_i + n\\right)\\frac{1}{\\lambda+1}=0\\Longrightarrow\\sum_{i=1}^{n}X_i=\\lambda n}$\n",
    "### $\\displaystyle{\\hat{\\lambda}=\\frac{\\sum_{i=1}^{n}X_i}{n}=\\bar{x}=4,96}$\n",
    "Смещение ОМП-оценки по методу моментов:\n",
    "### $\\displaystyle{E_\\lambda(\\hat{\\lambda})=E_\\lambda(\\frac{\\sum_{i=1}^{n}X_i}{n})=\\frac{\\sum_{i=1}^{n}E_\\lambda(X_i)}{n}=\\frac{1}{n}n\\lambda=\\lambda}$\n",
    "Значит оценка является несмещенной"
   ]
  },
  {
   "cell_type": "markdown",
   "id": "6b2278c0",
   "metadata": {},
   "source": [
    "### d) Построить асимптотический доверительный интервал уровня значимости $\\alpha_1$ для параметра $\\lambda$ на базе ОМП.\n",
    "Воспользуемся центральной предельной теоремой:\n",
    "### $\\displaystyle{\\sqrt n\\frac{\\bar x - a}{\\sigma}\\longrightarrow N(0, 1)}$\n",
    "При этом:\n",
    "### $\\displaystyle{x_1, x_2, ..., x_n \\sim Geom(\\lambda)}$\n",
    "Из чего следует, что:\n",
    "### $\\displaystyle{\\hat{\\lambda}=\\bar x},EX_i=\\lambda,DX_i=\\lambda(\\lambda+1)$\n",
    "Тогда:\n",
    "### $\\displaystyle{\\sqrt n\\frac{\\bar x - \\lambda}{\\sqrt{\\hat\\lambda(\\hat\\lambda+1)}}\\longrightarrow N(0, 1) \\Longrightarrow \\sqrt n\\frac{\\bar x - \\lambda}{\\sqrt{\\bar x(\\bar x+1)}}\\longrightarrow N(0, 1) \\Longrightarrow P\\left(-x_\\alpha \\leqslant \\sqrt n\\frac{\\bar x - \\lambda}{\\sqrt{\\bar x(\\bar x+1)}} \\leqslant x_\\alpha\\right)\\longrightarrow 1-\\alpha_1}$\n",
    "### где, $\\displaystyle{x_\\alpha: \\Phi(x_\\alpha)=1-\\frac{\\alpha_1}{2}=1-\\frac{0,2}{2}=0,9}\\Longrightarrow x_\\alpha=\\Phi^{-1}(0,9)=1,281552$\n",
    "Тогда:\n",
    "### $\\displaystyle{P\\left(-x_\\alpha \\leqslant \\sqrt n\\frac{\\bar x - \\lambda}{\\sqrt{\\bar x(\\bar x+1)}} \\leqslant x_\\alpha\\right)\\longrightarrow 1-\\alpha_1 \\Longrightarrow P\\left(\\bar x-\\frac{x_\\alpha\\sqrt{\\bar x(\\bar x+1)}}{\\sqrt n} \\leqslant \\lambda \\leqslant \\bar x+\\frac{x_\\alpha\\sqrt{\\bar x(\\bar x+1)}}{\\sqrt n}\\right)\\longrightarrow 1-\\alpha_1 \\Longrightarrow P\\left(4,96-\\frac{1,281552\\sqrt{4,96*5,96}}{\\sqrt 50} \\leqslant \\lambda \\leqslant 4,96+\\frac{1,281552\\sqrt{4,96*5,96}}{\\sqrt 50}\\right)\\longrightarrow 1-0.2}$"
   ]
  },
  {
   "cell_type": "code",
   "execution_count": 166,
   "id": "f72da9a7",
   "metadata": {},
   "outputs": [
    {
     "data": {
      "text/html": [
       "3.97459400824497"
      ],
      "text/latex": [
       "3.97459400824497"
      ],
      "text/markdown": [
       "3.97459400824497"
      ],
      "text/plain": [
       "[1] 3.974594"
      ]
     },
     "metadata": {},
     "output_type": "display_data"
    },
    {
     "data": {
      "text/html": [
       "5.94540599175503"
      ],
      "text/latex": [
       "5.94540599175503"
      ],
      "text/markdown": [
       "5.94540599175503"
      ],
      "text/plain": [
       "[1] 5.945406"
      ]
     },
     "metadata": {},
     "output_type": "display_data"
    }
   ],
   "source": [
    "4.96 - (1.281552*sqrt(4.96*5.96))/sqrt(50) # Расчеты\n",
    "4.96 + (1.281552*sqrt(4.96*5.96))/sqrt(50) # Расчеты"
   ]
  },
  {
   "cell_type": "markdown",
   "id": "5b14183f",
   "metadata": {},
   "source": [
    "Итого:\n",
    "### $\\displaystyle{P(3.97459400824497 \\leqslant \\lambda \\leqslant 5.94540599175503)\\longrightarrow 0,8}$"
   ]
  },
  {
   "cell_type": "markdown",
   "id": "46ac55fb",
   "metadata": {},
   "source": [
    "### e) Используя гистограмму частот, построить критерий значимости $\\chi^2$ проверки простой гипотезы согласия с геометрическим распределением с параметром $\\lambda_0$. Проверить гипотезу на уровне значимости $\\alpha_1$. Вычислить наибольшее значение уровня значимости, на котором еще нет основания отвергнуть данную гипотезу.\n",
    "\n",
    "### $H_0: \\lambda = \\lambda_0$\n",
    "\n",
    "### $H_0: F=F_{\\lambda_0}$ - функция геометрическиго распределения $Geom(\\lambda_0)$\n",
    "### $\\widetilde{H}_0: p_1 = p_{10},p_2=p_{20},...,p_r=p_{r0}$, где $p_{ri}$ - неизвестные теоретические вероятности попадиения в каждый интервал.\n",
    "\n",
    "|Интервал|Теоретические пападания|Попадания|\n",
    "|:|:|:|\n",
    "|(-oo, 5]|25.3364907863714|34|\n",
    "|(5, 10]|10.9770137621869|7|\n",
    "|(10, 15]|6.09146280139105|5|\n",
    "|(15, +oo)|7.59503265005068|2|\n",
    "\n",
    "Вычисления теоретических ожидаемых попаданий:"
   ]
  },
  {
   "cell_type": "code",
   "execution_count": 167,
   "id": "033bd575",
   "metadata": {},
   "outputs": [
    {
     "data": {
      "text/html": [
       "25.3364907863714"
      ],
      "text/latex": [
       "25.3364907863714"
      ],
      "text/markdown": [
       "25.3364907863714"
      ],
      "text/plain": [
       "[1] 25.33649"
      ]
     },
     "metadata": {},
     "output_type": "display_data"
    },
    {
     "data": {
      "text/html": [
       "10.9770137621869"
      ],
      "text/latex": [
       "10.9770137621869"
      ],
      "text/markdown": [
       "10.9770137621869"
      ],
      "text/plain": [
       "[1] 10.97701"
      ]
     },
     "metadata": {},
     "output_type": "display_data"
    },
    {
     "data": {
      "text/html": [
       "6.09146280139105"
      ],
      "text/latex": [
       "6.09146280139105"
      ],
      "text/markdown": [
       "6.09146280139105"
      ],
      "text/plain": [
       "[1] 6.091463"
      ]
     },
     "metadata": {},
     "output_type": "display_data"
    },
    {
     "data": {
      "text/html": [
       "7.59503265005068"
      ],
      "text/latex": [
       "7.59503265005068"
      ],
      "text/markdown": [
       "7.59503265005068"
      ],
      "text/plain": [
       "[1] 7.595033"
      ]
     },
     "metadata": {},
     "output_type": "display_data"
    }
   ],
   "source": [
    "lambda_g = 1/(lambda_0+1)\n",
    "pgeom(5, lambda_g)*50\n",
    "(pgeom(10, lambda_g) - pgeom(5, lambda_g))*50\n",
    "(pgeom(15, lambda_g) - pgeom(10, lambda_g))*50\n",
    "(1 - pgeom(15, lambda_g))*50"
   ]
  },
  {
   "cell_type": "markdown",
   "id": "4eae88d6",
   "metadata": {},
   "source": [
    "### $\\displaystyle{\\chi^2 = \\sum_{i=1}^{r}\\frac{(n_i-N_{p_{i0}})}{N_{p_{i0}}}} = \\frac{(34-25,3364907863714)^2}{25,3364907863714} + \\frac{(7-10,9770137621869)^2}{10,9770137621869} + \\frac{(5-6,09146280139105)^2}{6,09146280139105} + \\frac{(2-7,59503265005068)^2}{7,59503265005068 \t} = 8,72053025909524$"
   ]
  },
  {
   "cell_type": "code",
   "execution_count": 168,
   "id": "175628e8",
   "metadata": {},
   "outputs": [
    {
     "data": {
      "text/html": [
       "8.72053025909524"
      ],
      "text/latex": [
       "8.72053025909524"
      ],
      "text/markdown": [
       "8.72053025909524"
      ],
      "text/plain": [
       "[1] 8.72053"
      ]
     },
     "metadata": {},
     "output_type": "display_data"
    }
   ],
   "source": [
    "(34-25.3364907863714)^2/25.3364907863714 + \n",
    "(7-10.9770137621869)^2/10.9770137621869 + \n",
    "(5-6.09146280139105)^2/6.09146280139105 + \n",
    "(2-7.59503265005068)^2/7.59503265005068"
   ]
  },
  {
   "cell_type": "markdown",
   "id": "c36e9343",
   "metadata": {},
   "source": [
    "Граница критической области:\n",
    "### $x_{\\alpha} = 4.64162767608745 < \\chi_2 \\Rightarrow$ - основная гипотеза солгасия с геометрическим распределением отвергнута. Принимается альтернативная гипотеза о том, что исходные наблюдения не являются выборкой из геометрического распределения с параметром $\\lambda_0$"
   ]
  },
  {
   "cell_type": "markdown",
   "id": "eec69c03",
   "metadata": {},
   "source": [
    "### f) Построить критерий значимости $\\chi^2$ проверки сложной гипотезы согласия с геометрическим распределением. Проверить гипотезу на уровне значимости $\\alpha_1$. Вычислить наибольшее значение уровня значимости, на котором еще нет основания отвергнуть данную гипотезу."
   ]
  },
  {
   "cell_type": "code",
   "execution_count": 169,
   "id": "cef9b294",
   "metadata": {},
   "outputs": [
    {
     "data": {
      "text/html": [
       "1.24955225252699"
      ],
      "text/latex": [
       "1.24955225252699"
      ],
      "text/markdown": [
       "1.24955225252699"
      ],
      "text/plain": [
       "[1] 1.249552"
      ]
     },
     "metadata": {},
     "output_type": "display_data"
    }
   ],
   "source": [
    "csq <- function(lambda_0){\n",
    "    lambda_g = 1/(lambda_0+1)\n",
    "    prob <- pgeom(up, lambda_g) - pgeom(lower, lambda_g)\n",
    "    return (sum((hits-50*prob)^2/(prob*50)))\n",
    "}\n",
    "nlm(csq, mean(data))$minimum"
   ]
  },
  {
   "cell_type": "markdown",
   "id": "86f62b47",
   "metadata": {},
   "source": [
    "### $\\widetilde{X}^2=1.24955225252699$\n",
    "### $df=r-d-1=4-1-1=2$\n",
    "### $x_{\\alpha} = 3.2188758248682 > \\widetilde{X}^2 \\Rightarrow$ - гипотеза о согласии с геометрическим распределением принимается.\n",
    "\n",
    "Вычисление $x_{\\alpha}$:"
   ]
  },
  {
   "cell_type": "code",
   "execution_count": 170,
   "id": "f35896c9",
   "metadata": {},
   "outputs": [
    {
     "data": {
      "text/html": [
       "3.2188758248682"
      ],
      "text/latex": [
       "3.2188758248682"
      ],
      "text/markdown": [
       "3.2188758248682"
      ],
      "text/plain": [
       "[1] 3.218876"
      ]
     },
     "metadata": {},
     "output_type": "display_data"
    }
   ],
   "source": [
    "qchisq(1-alpha_1, 2)"
   ]
  },
  {
   "cell_type": "markdown",
   "id": "497a8b3a",
   "metadata": {},
   "source": [
    "Вычисление наибольшего значения урованя значимости $\\alpha_{max}$:"
   ]
  },
  {
   "cell_type": "code",
   "execution_count": 171,
   "id": "63d2aefd",
   "metadata": {},
   "outputs": [
    {
     "data": {
      "text/html": [
       "0.535381272909504"
      ],
      "text/latex": [
       "0.535381272909504"
      ],
      "text/markdown": [
       "0.535381272909504"
      ],
      "text/plain": [
       "[1] 0.5353813"
      ]
     },
     "metadata": {},
     "output_type": "display_data"
    }
   ],
   "source": [
    "1 - pchisq(nlm(csq, mean(data))$minimum, df=2)"
   ]
  },
  {
   "cell_type": "markdown",
   "id": "679a56e3",
   "metadata": {},
   "source": [
    "## 2 часть:\n",
    "Для начала производится создание коллекции из данных (выборки):"
   ]
  },
  {
   "cell_type": "code",
   "execution_count": 172,
   "id": "07c90833",
   "metadata": {},
   "outputs": [],
   "source": [
    "data <- c(3.26,2.54,5.02,0.75,3.07,0.32,0.76,1.00,0.83,0.4,0.19,\n",
    "1.02,0.17,0.24,0.06,4.34,4.13,1.93,0.69,0.00,0.09,15.9,1.3,0.38,\n",
    "0.16,5.23,0.04,2.24,3.73,0.03,2.53,6.13,0.44,2.55,0.01,1.34,0.77,\n",
    "0.88,0.08,0.04,0.02,1.97,6.46,2.81,0.85,2.00,0.94,0.04,0.84,0.04)\n",
    "alpha_2 = 0.05\n",
    "c = 0.00\n",
    "d = 4.26\n",
    "h = 1.1\n",
    "lambda_0 = 0.21\n",
    "lambda_1 = 0.36"
   ]
  },
  {
   "cell_type": "markdown",
   "id": "0d234be6",
   "metadata": {},
   "source": [
    "### a) Построить вариационный ряд, эмпирическую функцию распределения, гистограмму и полигон частот с шагом h.\n",
    "Исходный ряд:"
   ]
  },
  {
   "cell_type": "code",
   "execution_count": 173,
   "id": "e6f08285",
   "metadata": {},
   "outputs": [
    {
     "name": "stdout",
     "output_type": "stream",
     "text": [
      " [1]  3.26  2.54  5.02  0.75  3.07  0.32  0.76  1.00  0.83  0.40  0.19  1.02\n",
      "[13]  0.17  0.24  0.06  4.34  4.13  1.93  0.69  0.00  0.09 15.90  1.30  0.38\n",
      "[25]  0.16  5.23  0.04  2.24  3.73  0.03  2.53  6.13  0.44  2.55  0.01  1.34\n",
      "[37]  0.77  0.88  0.08  0.04  0.02  1.97  6.46  2.81  0.85  2.00  0.94  0.04\n",
      "[49]  0.84  0.04\n"
     ]
    }
   ],
   "source": [
    "print(data)"
   ]
  },
  {
   "cell_type": "markdown",
   "id": "e042159f",
   "metadata": {},
   "source": [
    "Вариационный ряд"
   ]
  },
  {
   "cell_type": "code",
   "execution_count": 174,
   "id": "bfeca93b",
   "metadata": {},
   "outputs": [
    {
     "name": "stdout",
     "output_type": "stream",
     "text": [
      " [1]  0.00  0.01  0.02  0.03  0.04  0.04  0.04  0.04  0.06  0.08  0.09  0.16\n",
      "[13]  0.17  0.19  0.24  0.32  0.38  0.40  0.44  0.69  0.75  0.76  0.77  0.83\n",
      "[25]  0.84  0.85  0.88  0.94  1.00  1.02  1.30  1.34  1.93  1.97  2.00  2.24\n",
      "[37]  2.53  2.54  2.55  2.81  3.07  3.26  3.73  4.13  4.34  5.02  5.23  6.13\n",
      "[49]  6.46 15.90\n"
     ]
    }
   ],
   "source": [
    "print(sort(data))"
   ]
  },
  {
   "cell_type": "markdown",
   "id": "ab780186",
   "metadata": {},
   "source": [
    "Вектор рангов:"
   ]
  },
  {
   "cell_type": "code",
   "execution_count": 175,
   "id": "012033b2",
   "metadata": {},
   "outputs": [
    {
     "name": "stdout",
     "output_type": "stream",
     "text": [
      " [1] 42.0 38.0 46.0 21.0 41.0 16.0 22.0 29.0 24.0 18.0 14.0 30.0 13.0 15.0  9.0\n",
      "[16] 45.0 44.0 33.0 20.0  1.0 11.0 50.0 31.0 17.0 12.0 47.0  6.5 36.0 43.0  4.0\n",
      "[31] 37.0 48.0 19.0 39.0  2.0 32.0 23.0 27.0 10.0  6.5  3.0 34.0 49.0 40.0 26.0\n",
      "[46] 35.0 28.0  6.5 25.0  6.5\n"
     ]
    }
   ],
   "source": [
    "rankVector = rank(data)\n",
    "print(rankVector)"
   ]
  },
  {
   "cell_type": "markdown",
   "id": "dad0bf3e",
   "metadata": {},
   "source": [
    "Ранжированный ряд в виде таблицы:"
   ]
  },
  {
   "cell_type": "code",
   "execution_count": 176,
   "id": "54e14ef7",
   "metadata": {},
   "outputs": [
    {
     "name": "stdout",
     "output_type": "stream",
     "text": [
      "   Value Rank\n",
      "1   3.26 42.0\n",
      "2   2.54 38.0\n",
      "3   5.02 46.0\n",
      "4   0.75 21.0\n",
      "5   3.07 41.0\n",
      "6   0.32 16.0\n",
      "7   0.76 22.0\n",
      "8   1.00 29.0\n",
      "9   0.83 24.0\n",
      "10  0.40 18.0\n",
      "11  0.19 14.0\n",
      "12  1.02 30.0\n",
      "13  0.17 13.0\n",
      "14  0.24 15.0\n",
      "15  0.06  9.0\n",
      "16  4.34 45.0\n",
      "17  4.13 44.0\n",
      "18  1.93 33.0\n",
      "19  0.69 20.0\n",
      "20  0.00  1.0\n",
      "21  0.09 11.0\n",
      "22 15.90 50.0\n",
      "23  1.30 31.0\n",
      "24  0.38 17.0\n",
      "25  0.16 12.0\n",
      "26  5.23 47.0\n",
      "27  0.04  6.5\n",
      "28  2.24 36.0\n",
      "29  3.73 43.0\n",
      "30  0.03  4.0\n",
      "31  2.53 37.0\n",
      "32  6.13 48.0\n",
      "33  0.44 19.0\n",
      "34  2.55 39.0\n",
      "35  0.01  2.0\n",
      "36  1.34 32.0\n",
      "37  0.77 23.0\n",
      "38  0.88 27.0\n",
      "39  0.08 10.0\n",
      "40  0.04  6.5\n",
      "41  0.02  3.0\n",
      "42  1.97 34.0\n",
      "43  6.46 49.0\n",
      "44  2.81 40.0\n",
      "45  0.85 26.0\n",
      "46  2.00 35.0\n",
      "47  0.94 28.0\n",
      "48  0.04  6.5\n",
      "49  0.84 25.0\n",
      "50  0.04  6.5\n"
     ]
    }
   ],
   "source": [
    "print(data.frame(Value = data, Rank = rankVector))"
   ]
  },
  {
   "cell_type": "markdown",
   "id": "2e1837fa",
   "metadata": {},
   "source": [
    "Построение эмпирической функции распределения:"
   ]
  },
  {
   "cell_type": "code",
   "execution_count": 177,
   "id": "cb652f05",
   "metadata": {},
   "outputs": [
    {
     "data": {
      "image/png": "[encoded data removed]",
      "text/plain": [
       "Plot with title \"Эмпирическая функция распределения\""
      ]
     },
     "metadata": {},
     "output_type": "display_data"
    }
   ],
   "source": [
    "dataLen = length(data)\n",
    "plot(sort(data), (1:dataLen)/dataLen, type=\"S\", col=\"red\", \n",
    "main=\"Эмпирическая функция распределения\", xlab=\"x\", ylab=\"F(x)\")"
   ]
  },
  {
   "cell_type": "markdown",
   "id": "f564c12a",
   "metadata": {},
   "source": [
    "Гистограмма частот:"
   ]
  },
  {
   "cell_type": "code",
   "execution_count": 178,
   "id": "e95073e9",
   "metadata": {},
   "outputs": [
    {
     "data": {
      "image/png": "[encoded data removed]",
      "text/plain": [
       "Plot with title \"Гистограмма частот\""
      ]
     },
     "metadata": {},
     "output_type": "display_data"
    }
   ],
   "source": [
    "hist(data, breaks=0:20, main=\"Гистограмма частот\", freq = FALSE, col = \"green\")"
   ]
  },
  {
   "cell_type": "markdown",
   "id": "56f0b016",
   "metadata": {},
   "source": [
    "### b) Вычислить выборочные аналоги числовых характеристик (матожидание, дисперсия, медиана, ассиметрия, эксцесс, вероятности на промежутке)."
   ]
  },
  {
   "cell_type": "code",
   "execution_count": 179,
   "id": "75cfeec5",
   "metadata": {},
   "outputs": [
    {
     "name": "stdout",
     "output_type": "stream",
     "text": [
      "  Матожидание Дисперсия Медиана Ассиметрия  Эксцесс\n",
      "1      1.8112  7.074827   0.845   3.279316 16.93842\n"
     ]
    }
   ],
   "source": [
    "#install.packages (\"moments\")\n",
    "#library(moments)\n",
    "print(data.frame(Матожидание = mean(data), Дисперсия = var(data), \n",
    "Медиана = median(data), Ассиметрия = skewness(data), Эксцесс = kurtosis(data)))"
   ]
  },
  {
   "cell_type": "markdown",
   "id": "284f7a71",
   "metadata": {},
   "source": [
    "$P(X \\in [c, d])=P(X \\in [0, 4.26]):$"
   ]
  },
  {
   "cell_type": "code",
   "execution_count": 180,
   "id": "fe2d51f0",
   "metadata": {},
   "outputs": [
    {
     "name": "stdout",
     "output_type": "stream",
     "text": [
      "[1] 0.88\n"
     ]
    }
   ],
   "source": [
    "k = 0\n",
    "for (value in data){\n",
    "    if(value >=c && value <=d) \n",
    "        k = k + 1\n",
    "}\n",
    "print(k/dataLen)"
   ]
  },
  {
   "cell_type": "markdown",
   "id": "3c23eb0c",
   "metadata": {},
   "source": [
    "### c) В предположении, что исходные наблюдения являются выборкой из показательного распределения, построить оценку максимального правдоподобия параметра $\\lambda$ а также оценку $\\lambda$ по методу моментов. Найти смещение оценок.\n",
    "Плотность показательного распределения: \n",
    "### $p(x) = \\lambda e^{-\\lambda x}$, $x \\geqslant 0$\n",
    "\n",
    "Функция правдоподобия: \n",
    "### $L(x,\\lambda)=\\displaystyle{\\prod\\limits_{i=1}^{n}p(x_i)}=\\lambda^n e^{-\\lambda \\sum_{i=1}^{n}x_i}$\n",
    "Логарифм от функции правдоподобия:\n",
    "### $\\displaystyle{LL(x,\\lambda)=ln(\\lambda)n - \\lambda\\sum_{i=1}^{n}X_i}$\n",
    "### $\\displaystyle{\\frac{\\partial LL}{\\partial\\lambda}=\\frac{n}{\\lambda}-\\sum_{i=1}^{n}X_i=0} \\Longrightarrow \\frac{1}{\\lambda} = \\frac{1}{n}\\sum_{i=1}^{n}X_i=\\bar{x} \\Longrightarrow \\hat{\\lambda}=\\frac{1}{\\bar x}=\\frac{1}{1.8112}\\approx 0,55$\n",
    "По методу моментов оценим $\\lambda$:\n",
    "### $\\displaystyle{E(\\hat{\\lambda})=E(\\frac{1}{\\bar{x}})=E(\\frac{n}{\\sum_{i=1}^{n}X_i})=\\frac{n}{\\sum_{i=1}^{n}E(x_i)}=\\frac{n}{\\sum_{i=1}^{n}\\frac{1}{\\lambda}}=\\frac{n}{\\frac{n}{\\lambda}}=\\lambda\\Longrightarrow}$ оценка несмещенная\n",
    "Таким образом, оценка: $\\displaystyle{\\hat{\\lambda}=0,55}$"
   ]
  },
  {
   "cell_type": "markdown",
   "id": "13563ed9",
   "metadata": {},
   "source": [
    "### d) Построить асимптотический доверительный интервал уровня значимости $\\alpha_2$ для параметра $\\lambda$ на базе ОМП.\n",
    "Воспользуемся центральной предельной теоремой:\n",
    "### $\\displaystyle{\\sqrt n\\frac{\\bar x - a}{\\sigma}\\longrightarrow N(0, 1)}$\n",
    "При этом:\n",
    "### $\\displaystyle{x_1, x_2, ..., x_n \\sim Exp(\\lambda)}$\n",
    "Из чего следует, что:\n",
    "### $\\displaystyle{\\hat{\\lambda}=\\frac{1}{\\bar x}},EX_i=\\frac{1}{\\lambda},DX_i=\\frac{1}{\\lambda^2}$\n",
    "Тогда:\n",
    "### $\\displaystyle{\\sqrt n\\frac{\\bar x - \\lambda^{-1}}{\\sqrt{\\lambda^{-2}}}\\longrightarrow N(0, 1) \\Longrightarrow \\sqrt n\\frac{\\bar x - \\lambda^{-1}}{\\sqrt{\\bar x^2}}\\longrightarrow N(0, 1) \\Longrightarrow P\\left(-x_\\alpha \\leqslant \\sqrt n\\frac{\\bar x - \\lambda^{-1}}{|\\bar x|} \\leqslant x_\\alpha\\right)\\longrightarrow 1-\\alpha_2}$\n",
    "### где, $\\displaystyle{x_\\alpha: \\Phi(x_\\alpha)=1-\\frac{\\alpha_2}{2}=1-\\frac{0,05}{2}=0,975}\\Longrightarrow x_\\alpha=\\Phi^{-1}(0,975)=1.959964$"
   ]
  },
  {
   "cell_type": "code",
   "execution_count": 181,
   "id": "ce36f29c",
   "metadata": {},
   "outputs": [
    {
     "name": "stdout",
     "output_type": "stream",
     "text": [
      "[1] 1.959964\n"
     ]
    }
   ],
   "source": [
    "print(qnorm (0.975)) # Вычисление Ф^(-1)"
   ]
  },
  {
   "cell_type": "markdown",
   "id": "4ddea718",
   "metadata": {},
   "source": [
    "Тогда:\n",
    "### $\\displaystyle{P\\left(-x_\\alpha \\leqslant \\sqrt n\\frac{\\bar x - \\lambda^{-1}}{\\bar x} \\leqslant x_\\alpha\\right)\\longrightarrow 1-\\alpha_2 \\Longrightarrow P\\left(\\frac{1}{\\bar{x}+\\frac{\\bar{x}}{\\sqrt{n}}x_\\alpha} \\leqslant \\lambda \\leqslant \\frac{1}{\\bar{x}-\\frac{\\bar{x}}{\\sqrt{n}}x_\\alpha}\\right)\\longrightarrow 1-\\alpha_2 \\Longrightarrow P\\left(\\frac{1}{1,8112+\\frac{1,8112}{\\sqrt{50}}1,959964} \\leqslant \\lambda \\leqslant \\frac{1}{1,8112-\\frac{1,8112}{\\sqrt{50}}1,959964}\\right)\\longrightarrow 1-0,05}$"
   ]
  },
  {
   "cell_type": "code",
   "execution_count": 182,
   "id": "302da6a6",
   "metadata": {},
   "outputs": [
    {
     "data": {
      "text/html": [
       "0.432296003497849"
      ],
      "text/latex": [
       "0.432296003497849"
      ],
      "text/markdown": [
       "0.432296003497849"
      ],
      "text/plain": [
       "[1] 0.432296"
      ]
     },
     "metadata": {},
     "output_type": "display_data"
    },
    {
     "data": {
      "text/html": [
       "0.763842626453414"
      ],
      "text/latex": [
       "0.763842626453414"
      ],
      "text/markdown": [
       "0.763842626453414"
      ],
      "text/plain": [
       "[1] 0.7638426"
      ]
     },
     "metadata": {},
     "output_type": "display_data"
    }
   ],
   "source": [
    "1/(1.8112+1.8112/sqrt(50)*1.959964)\n",
    "1/(1.8112-1.8112/sqrt(50)*1.959964)"
   ]
  },
  {
   "cell_type": "markdown",
   "id": "0aed9f0d",
   "metadata": {},
   "source": [
    "Итого:\n",
    "### $\\displaystyle{P(0.432296003497849 \\leqslant \\lambda \\leqslant 0.763842626453414)\\longrightarrow 0,95}$"
   ]
  },
  {
   "cell_type": "markdown",
   "id": "a2fcefd9",
   "metadata": {},
   "source": [
    "### e) С использованием теоремы Колмогорова построить критерий значимости проверки простой гипотезы согласия с показательным распределением с параметром $\\lambda_0$. ПРоверить гипотезу на уровне значимости $\\alpha_2$. Вычислить наибольшее значение уровня значимости, на котором нет оснований отвергнуть данную гипотезу.\n",
    "### $H_0 : F_\\lambda=F_{\\lambda_0}$ - функция паказательного распределения с параметром $\\lambda_0$\n",
    "По теореме Колмогорова:\n",
    "$\\phi(\\overrightarrow x)= \\begin{cases}\n",
    "    0, & \\quad K \\leqslant x_\\alpha \\\\\n",
    "    1, & \\quad K > x_\\alpha\n",
    "\\end{cases}$\n",
    "### $K = max|F_n(x)-F(x)|\\sqrt n$\n",
    "### $x_{\\alpha_2}=1,959964$\n",
    "Вычисление К:"
   ]
  },
  {
   "cell_type": "code",
   "execution_count": 183,
   "id": "a6152513",
   "metadata": {},
   "outputs": [
    {
     "name": "stderr",
     "output_type": "stream",
     "text": [
      "Warning message in ks.test(sort(data), \"pexp\", lambda_0):\n",
      "\"ties should not be present for the Kolmogorov-Smirnov test\""
     ]
    },
    {
     "data": {
      "text/html": [
       "<strong>D:</strong> 2.8792464046823"
      ],
      "text/latex": [
       "\\textbf{D:} 2.8792464046823"
      ],
      "text/markdown": [
       "**D:** 2.8792464046823"
      ],
      "text/plain": [
       "       D \n",
       "2.879246 "
      ]
     },
     "metadata": {},
     "output_type": "display_data"
    }
   ],
   "source": [
    "ks_test <- ks.test(sort(data), \"pexp\", lambda_0)\n",
    "sqrt(50)*ks_test$statistic"
   ]
  },
  {
   "cell_type": "markdown",
   "id": "148a4d04",
   "metadata": {},
   "source": [
    "### $K > x_{\\alpha_2} \\Longrightarrow$ отвергаем гипотезу $H_0$."
   ]
  },
  {
   "cell_type": "markdown",
   "id": "b852a459",
   "metadata": {},
   "source": [
    "### f) Используя гистограмму частот, построить критерий значимости $\\chi^2$ проверки простой гипотезы согласия с gпоказательным распределением с параметром $\\lambda_0$. Проверить гипотезу на уровне значимости $\\alpha_2$. Вычислить наибольшее значение уровня значимости, на котором еще нет основания отвергнуть данную гипотезу.\n",
    "\n",
    "### $H_0: \\lambda = \\lambda_0$\n",
    "\n",
    "### $H_0: F=F_{\\lambda_0}$ - функция показательного распределения $Exp(\\lambda_0)$\n",
    "### $\\widetilde{H}_0: p_1 = p_{10},p_2=p_{20},...,p_r=p_{r0}$, где $p_{ri}$ - неизвестные теоретические вероятности попадиения в каждый интервал.\n",
    "\n",
    "|Интервал|Теоретические пападания|Попадания|\n",
    "|:|:|:|\n",
    "|(-oo, 1]|25.3364907863714|34|\n",
    "|(1, 2]|10.9770137621869|7|\n",
    "|(2, 3]|6.09146280139105|5|\n",
    "|(3, 4]|7.59503265005068|2|\n",
    "|(4, 5]|7.59503265005068|2|\n",
    "|(5, 6]|7.59503265005068|2|\n",
    "|(6, +oo)|7.59503265005068|2|\n",
    "\n",
    "Вычисления попаданий в интервалы:"
   ]
  },
  {
   "cell_type": "code",
   "execution_count": 184,
   "id": "040e3f39",
   "metadata": {},
   "outputs": [
    {
     "name": "stdout",
     "output_type": "stream",
     "text": [
      "[1] 29\n",
      "[1] 6\n",
      "[1] 5\n",
      "[1] 3\n",
      "[1] 2\n",
      "[1] 2\n",
      "[1] 3\n"
     ]
    }
   ],
   "source": [
    "k1 = 0\n",
    "for (value in data){\n",
    "    if(value <= 1) \n",
    "        k1 = k1 + 1\n",
    "}\n",
    "print(k1)\n",
    "\n",
    "k2 = 0\n",
    "for (value in data){\n",
    "    if(value > 1 && value <= 2) \n",
    "        k2 = k2 + 1\n",
    "}\n",
    "print(k2)\n",
    "\n",
    "k3 = 0\n",
    "for (value in data){\n",
    "    if(value > 2 && value <= 3) \n",
    "        k3 = k3 + 1\n",
    "}\n",
    "print(k3)\n",
    "\n",
    "k4 = 0\n",
    "for (value in data){\n",
    "    if(value > 3 && value <= 4) \n",
    "        k4 = k4 + 1\n",
    "}\n",
    "print(k4)\n",
    "\n",
    "k5 = 0\n",
    "for (value in data){\n",
    "    if(value > 4 && value <= 5) \n",
    "        k5 = k5 + 1\n",
    "}\n",
    "print(k5)\n",
    "\n",
    "k6 = 0\n",
    "for (value in data){\n",
    "    if(value > 5 && value <= 6) \n",
    "        k6 = k6 + 1\n",
    "}\n",
    "print(k6)\n",
    "\n",
    "k7 = 0\n",
    "for (value in data){\n",
    "    if(value > 6) \n",
    "        k7 = k7 + 1\n",
    "}\n",
    "print(k7)"
   ]
  },
  {
   "cell_type": "markdown",
   "id": "7232493c",
   "metadata": {},
   "source": [
    "Вычисления теоретических ожидаемых попаданий"
   ]
  },
  {
   "cell_type": "code",
   "execution_count": 185,
   "id": "99a86241",
   "metadata": {},
   "outputs": [
    {
     "data": {
      "text/html": [
       "52.1104031096774"
      ],
      "text/latex": [
       "52.1104031096774"
      ],
      "text/markdown": [
       "52.1104031096774"
      ],
      "text/plain": [
       "[1] 52.1104"
      ]
     },
     "metadata": {},
     "output_type": "display_data"
    }
   ],
   "source": [
    "up <- c(1,2,3,4,5,6,+Inf)\n",
    "lower <- c(-Inf,1,2,3,4,5,6)\n",
    "npk <- 50*(pexp(up, lambda_0) - pexp(lower, lambda_0))\n",
    "counts = c(k1, k2, k3, k4, k5, k6, k7)\n",
    "sum((counts - npk)^2/npk)"
   ]
  },
  {
   "cell_type": "markdown",
   "id": "36d3a77b",
   "metadata": {},
   "source": [
    "Граница критической области:\n",
    "### $x_{\\alpha} = 12.591587243744 << \\chi_2 \\Rightarrow$ - основная гипотеза солгасия с показательным распределением отвергнута. Принимается альтернативная гипотеза о том, что исходные наблюдения не являются выборкой из показательного распределения с параметром $\\lambda_0$"
   ]
  },
  {
   "cell_type": "code",
   "execution_count": 186,
   "id": "85aaa45b",
   "metadata": {},
   "outputs": [
    {
     "data": {
      "text/html": [
       "12.591587243744"
      ],
      "text/latex": [
       "12.591587243744"
      ],
      "text/markdown": [
       "12.591587243744"
      ],
      "text/plain": [
       "[1] 12.59159"
      ]
     },
     "metadata": {},
     "output_type": "display_data"
    }
   ],
   "source": [
    "qchisq(1-alpha_2, 6)"
   ]
  },
  {
   "cell_type": "markdown",
   "id": "0a7d6111",
   "metadata": {},
   "source": [
    "### g) Построить критерий значимости $\\chi^2$ проверки сложной гипотезы согласия с показательным распределением. Проверить гипотезу на уровне значимости $\\alpha_2$. Вычислить наибольшее значение уровня значимости, на котором еще нет основания отвергнуть данную гипотезу."
   ]
  },
  {
   "cell_type": "code",
   "execution_count": 187,
   "id": "db9cbacb",
   "metadata": {},
   "outputs": [
    {
     "name": "stderr",
     "output_type": "stream",
     "text": [
      "Warning message in pexp(up, lambda_0):\n",
      "\"созданы NaN\"Warning message in pexp(lower, lambda_0):\n",
      "\"созданы NaN\"Warning message in nlm(csq, mean(data)):\n",
      "\"NA/Inf заменены максимальным положительным значением\"Warning message in pexp(up, lambda_0):\n",
      "\"созданы NaN\"Warning message in pexp(lower, lambda_0):\n",
      "\"созданы NaN\"Warning message in nlm(csq, mean(data)):\n",
      "\"NA/Inf заменены максимальным положительным значением\"Warning message in pexp(up, lambda_0):\n",
      "\"созданы NaN\"Warning message in pexp(lower, lambda_0):\n",
      "\"созданы NaN\"Warning message in nlm(csq, mean(data)):\n",
      "\"NA/Inf заменены максимальным положительным значением\"Warning message in pexp(up, lambda_0):\n",
      "\"созданы NaN\"Warning message in pexp(lower, lambda_0):\n",
      "\"созданы NaN\"Warning message in nlm(csq, mean(data)):\n",
      "\"NA/Inf заменены максимальным положительным значением\""
     ]
    },
    {
     "data": {
      "text/html": [
       "7.99508214998187"
      ],
      "text/latex": [
       "7.99508214998187"
      ],
      "text/markdown": [
       "7.99508214998187"
      ],
      "text/plain": [
       "[1] 7.995082"
      ]
     },
     "metadata": {},
     "output_type": "display_data"
    }
   ],
   "source": [
    "csq <- function(lambda_0){\n",
    "    prob <- pexp(up, lambda_0) - pexp(lower, lambda_0)\n",
    "    return (sum((counts-50*prob)^2/prob/50))\n",
    "}\n",
    "nlm(csq, mean(data))$minimum"
   ]
  },
  {
   "cell_type": "markdown",
   "id": "e3928e92",
   "metadata": {},
   "source": [
    "### $\\widetilde{X}^2=7,99508214998187$\n",
    "### $df=r-d-1=7-1-1=5$\n",
    "### $x_{\\alpha} = 11,0704976935164 > \\widetilde{X}^2 \\Rightarrow$ - гипотеза о согласии с показательным распределением принимается.\n",
    "\n",
    "Вычисление $x_{\\alpha}$:"
   ]
  },
  {
   "cell_type": "code",
   "execution_count": 188,
   "id": "63739a29",
   "metadata": {},
   "outputs": [
    {
     "data": {
      "text/html": [
       "11.0704976935164"
      ],
      "text/latex": [
       "11.0704976935164"
      ],
      "text/markdown": [
       "11.0704976935164"
      ],
      "text/plain": [
       "[1] 11.0705"
      ]
     },
     "metadata": {},
     "output_type": "display_data"
    }
   ],
   "source": [
    "qchisq(1-alpha_2, 5)"
   ]
  },
  {
   "cell_type": "markdown",
   "id": "3c0f7510",
   "metadata": {},
   "source": [
    "Вычисление наибольшего значения урованя значимости $\\alpha_{max}$:"
   ]
  },
  {
   "cell_type": "code",
   "execution_count": 189,
   "id": "9f74c848",
   "metadata": {},
   "outputs": [
    {
     "name": "stderr",
     "output_type": "stream",
     "text": [
      "Warning message in pexp(up, lambda_0):\n",
      "\"созданы NaN\"Warning message in pexp(lower, lambda_0):\n",
      "\"созданы NaN\"Warning message in nlm(csq, mean(data)):\n",
      "\"NA/Inf заменены максимальным положительным значением\"Warning message in pexp(up, lambda_0):\n",
      "\"созданы NaN\"Warning message in pexp(lower, lambda_0):\n",
      "\"созданы NaN\"Warning message in nlm(csq, mean(data)):\n",
      "\"NA/Inf заменены максимальным положительным значением\"Warning message in pexp(up, lambda_0):\n",
      "\"созданы NaN\"Warning message in pexp(lower, lambda_0):\n",
      "\"созданы NaN\"Warning message in nlm(csq, mean(data)):\n",
      "\"NA/Inf заменены максимальным положительным значением\"Warning message in pexp(up, lambda_0):\n",
      "\"созданы NaN\"Warning message in pexp(lower, lambda_0):\n",
      "\"созданы NaN\"Warning message in nlm(csq, mean(data)):\n",
      "\"NA/Inf заменены максимальным положительным значением\""
     ]
    },
    {
     "data": {
      "text/html": [
       "0.156506868282015"
      ],
      "text/latex": [
       "0.156506868282015"
      ],
      "text/markdown": [
       "0.156506868282015"
      ],
      "text/plain": [
       "[1] 0.1565069"
      ]
     },
     "metadata": {},
     "output_type": "display_data"
    }
   ],
   "source": [
    "1 - pchisq(nlm(csq, mean(data))$minimum, df=5)"
   ]
  }
 ],
 "metadata": {
  "kernelspec": {
   "display_name": "R",
   "language": "R",
   "name": "ir"
  },
  "language_info": {
   "codemirror_mode": "r",
   "file_extension": ".r",
   "mimetype": "text/x-r-source",
   "name": "R",
   "pygments_lexer": "r",
   "version": "3.6.1"
  }
 },
 "nbformat": 4,
 "nbformat_minor": 5
}
