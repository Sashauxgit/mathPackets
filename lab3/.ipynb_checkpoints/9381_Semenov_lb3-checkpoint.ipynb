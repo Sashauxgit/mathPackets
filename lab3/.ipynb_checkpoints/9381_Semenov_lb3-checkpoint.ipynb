{
 "cells": [
  {
   "cell_type": "markdown",
   "metadata": {},
   "source": [
    "# Лабораторная работа №3: Освоение возможностей библиотек Python для решения задач обработки символьных вычислений.\n",
    "\n",
    "#### Выполнил студент гр. 9381 Семенов Александр, вариант 15."
   ]
  },
  {
   "cell_type": "markdown",
   "metadata": {},
   "source": [
    "## Цель работы\n",
    "#### Практическое применение библиотеки символьных вычислений Python (SymPy) для решения задач дискретной математики и математической логики."
   ]
  },
  {
   "cell_type": "markdown",
   "metadata": {},
   "source": [
    "## Задачи лабораторной работы\n",
    "\n",
    "##### 1. Решить свой вариант диофантова уравнения.\n",
    "##### 2. Имея открытую часть ключа RSA найти соответствующую закрытую часть и расшифровать кодированное слово.\n",
    "##### 3. Записать в формате ДНФ и КНФ булеву функцию, заданную своим аналитическим выражением.\n",
    "\n",
    "**Ограничение:** В задачах производить действия с использованием методов только библиотеки SymPy!"
   ]
  },
  {
   "cell_type": "markdown",
   "metadata": {},
   "source": [
    "## Выполнение работы\n",
    "\n",
    "Для начала подключим метод генерации символов:"
   ]
  },
  {
   "cell_type": "code",
   "execution_count": 44,
   "metadata": {},
   "outputs": [],
   "source": [
    "from sympy import symbols"
   ]
  },
  {
   "cell_type": "markdown",
   "metadata": {},
   "source": [
    "### 1. Решение диофантова уравнения: $3287x + 3135y = −171$\n",
    "#### Реализация:"
   ]
  },
  {
   "cell_type": "code",
   "execution_count": 54,
   "metadata": {},
   "outputs": [
    {
     "data": {
      "image/png": "[encoded data removed]",
      "text/latex": [
       "$\\displaystyle \\left\\{\\left( 165 t_{0} - 558, \\  585 - 173 t_{0}\\right)\\right\\}$"
      ],
      "text/plain": [
       "{(165⋅t₀ - 558, 585 - 173⋅t₀)}"
      ]
     },
     "execution_count": 54,
     "metadata": {},
     "output_type": "execute_result"
    }
   ],
   "source": [
    "from sympy.solvers.diophantine import diophantine\n",
    "x, y = symbols(\"x, y\", integer = True)\n",
    "\n",
    "diophantine(3287 * x + 3135 * y + 171)"
   ]
  },
  {
   "cell_type": "markdown",
   "metadata": {},
   "source": [
    "В ответе получили:\n",
    "$\n",
    "  \\begin{cases}\n",
    "    x = 165t_0 - 558 \\\\\n",
    "    y = 585 - 173t_0 \n",
    "  \\end{cases}\n",
    "$ $t_0 \\in \\mathbb{Z}$"
   ]
  },
  {
   "cell_type": "markdown",
   "metadata": {},
   "source": [
    "### 2. Дешифрование RSA.\n",
    "#### Задание:\n",
    "Русское слово из четырех букв закодировано при помощи алгоритма RSA открытым ключом (e = 11,m = 33). Шифрованное сообщение имеет вид (6; 8; 21; 20). Подберите закрытую часть ключа и прочитайте исходное слово. Буквам русского алфавита соответсвуют числа в диапазоне от 2 до 32 (исключены буквы “e” и “ъ”).\n",
    "#### Реализация:"
   ]
  },
  {
   "cell_type": "code",
   "execution_count": 55,
   "metadata": {},
   "outputs": [
    {
     "name": "stdout",
     "output_type": "stream",
     "text": [
      "Открытый ключ: m = 33, e = 11\n",
      "Закрытый ключ: m = 33, d = 11\n"
     ]
    }
   ],
   "source": [
    "from sympy.crypto.crypto import rsa_public_key, rsa_private_key, decipher_rsa, encipher_rsa\n",
    "p, q = 3, 11 # m=33 => p=3, q = 11\n",
    "e = 11\n",
    "\n",
    "open_key = rsa_public_key(p, q, e, totient = \"Euler\")\n",
    "print(\"Открытый ключ: m = {}, e = {}\".format(open_key[0], open_key[1]))\n",
    "\n",
    "secret_key = rsa_private_key(p, q, e, totient = \"Euler\")\n",
    "print(\"Закрытый ключ: m = {}, d = {}\".format(secret_key[0], secret_key[1]))"
   ]
  },
  {
   "cell_type": "code",
   "execution_count": 56,
   "metadata": {},
   "outputs": [
    {
     "name": "stdout",
     "output_type": "stream",
     "text": [
      "Ответ: ДЖУТ\n"
     ]
    }
   ],
   "source": [
    "alphabet = {2: 'А', 3: 'Б', 4: 'В', 5: 'Г', 6: 'Д', 7: 'Е', 8: 'Ж', 9: 'З', 10: 'И', 11: 'Й', 12: 'К', 13: 'Л', 14: 'М', \n",
    "15: 'Н', 16: 'О', 17: 'П', 18: 'Р', 19: 'С', 20: 'Т', 21: 'У', 22: 'Ф', 23: 'Х', 24: 'Ц', 25: 'Ч', 26: 'Ш', 27: 'Щ', 28: 'Ы',\n",
    "29: 'Ь', 30: 'Э', 31: 'Ю', 32: 'Я'}\n",
    "\n",
    "secretMessage = (6, 8, 21, 20)\n",
    "\n",
    "result = \"\"\n",
    "for i in secretMessage:\n",
    "    result += alphabet[decipher_rsa(i, secret_key, factors = [p, q])]\n",
    "print(\"Ответ:\", result)"
   ]
  },
  {
   "cell_type": "markdown",
   "metadata": {},
   "source": [
    "### 3. Преобразование булевой функции (ДНФ и КНФ).\n",
    "#### Задание:\n",
    "Пусть $f(x, y, z) = ((y ∨ z) ∨ (z \\oplus x)) \\oplus ((zy) \\oplus (yx)).$\n",
    "\n",
    "Записать $f(x, y, z)$ в формате ДНФ и КНФ.\n",
    "#### Реализация:"
   ]
  },
  {
   "cell_type": "code",
   "execution_count": 57,
   "metadata": {},
   "outputs": [
    {
     "name": "stdout",
     "output_type": "stream",
     "text": [
      "ДНФ:  (x & z) | (x & ~y) | (z & ~y) | (y & ~x & ~z)\n",
      "КНФ:  (x | y | z) & (x | ~y | ~z) & (z | ~x | ~y)\n"
     ]
    }
   ],
   "source": [
    "from sympy.logic.boolalg import to_cnf, to_dnf\n",
    "x, y, z = symbols(\"x, y, z\")\n",
    "expression = ((y|z)|(z^x))^((z&y)^(y&x))\n",
    "print(\"ДНФ: \", to_dnf(expression, simplify=True))\n",
    "print(\"КНФ: \", to_cnf(expression, simplify=True))"
   ]
  },
  {
   "cell_type": "markdown",
   "metadata": {},
   "source": [
    "**Ответ:**\n",
    "\n",
    "$ДНФ: xz ∨ x\\bar{y} ∨ z\\bar{y} ∨ y\\bar{x}\\bar{z}$\n",
    "\n",
    "$КНФ: (x ∨ y ∨ z)(x ∨ \\bar{y} ∨ \\bar{z})(z ∨ \\bar{x} ∨ \\bar{y})$"
   ]
  },
  {
   "cell_type": "markdown",
   "metadata": {},
   "source": [
    "## Вывод\n",
    "#### В ходе выполнения лабораторной работы были изучены возможности библиотек Python для решения задач обработки символьных вычислений, приобретены навыки в решении задач дискретной матемтаики и математической логики с помощью функций библиотеки \"SumPy\", а также решены следующие задачи:\n",
    "- __Решение диафантова уравнения;__\n",
    "- __Дешифрование алгоритмом RSA;__\n",
    "- __Преобразование булевой функции, приведение к ДНФ, КНФ;__"
   ]
  }
 ],
 "metadata": {
  "kernelspec": {
   "display_name": "Python 3",
   "language": "python",
   "name": "python3"
  },
  "language_info": {
   "codemirror_mode": {
    "name": "ipython",
    "version": 3
   },
   "file_extension": ".py",
   "mimetype": "text/x-python",
   "name": "python",
   "nbconvert_exporter": "python",
   "pygments_lexer": "ipython3",
   "version": "3.8.5"
  }
 },
 "nbformat": 4,
 "nbformat_minor": 4
}
